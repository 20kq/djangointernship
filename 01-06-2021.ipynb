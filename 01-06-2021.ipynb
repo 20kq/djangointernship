{
 "cells": [
  {
   "cell_type": "markdown",
   "id": "61f8f267",
   "metadata": {},
   "source": [
    "# Python iterators,data types,data structures\n",
    "            -list\n",
    "         - list\n",
    "         -tupple\n",
    "         -set\n",
    "         -dictionary"
   ]
  },
  {
   "cell_type": "markdown",
   "id": "f0cf42ec",
   "metadata": {},
   "source": [
    "# List:\n",
    "           -it stores different data type elements\n",
    "           - it can be defined as \"[]\" and type casting as \"list()\"\n",
    "           -it consists of index so slicing can be done\n",
    "           - it stores the value in given format\n",
    "           -in this the values can be changed\n",
    "           - it can stores duplicate elements"
   ]
  },
  {
   "cell_type": "markdown",
   "id": "1846127c",
   "metadata": {},
   "source": [
    "# Tuple:\n",
    "     - it can stores different data type elements\n",
    "     - it can be deffined as \"()\" and type casting as \"tupple()\"\n",
    "     - it consists of index and slicing can be done\n",
    "     - it stores the value in given format\n",
    "     - in this the values can be changed\n",
    "     - it can store duplicate elements"
   ]
  },
  {
   "cell_type": "markdown",
   "id": "9a549cf7",
   "metadata": {},
   "source": [
    "# Set:\n",
    "     - it can stores different data type elements\n",
    "     - it can be deffined as \"{}\" and type castng as \"set()\"\n",
    "     - it doesnot consists of index and slicing can't be done\n",
    "     - it stores the value in given format but it prints in alphabetical order\n",
    "     - in this the values    can be change\n",
    "     - it can't stores the duplicate elements"
   ]
  },
  {
   "cell_type": "markdown",
   "id": "754aab56",
   "metadata": {},
   "source": [
    "# Dictionary:\n",
    "           - it can stores the different data type elements but it follows key and value pairs\n",
    "           -it can be defined as \"{}\" and type casting as \"dict()\"\n",
    "           - it consists of index but it can be applicable for either keys or values and slicing can be done\n",
    "           -it stores the value in given format\n",
    "           -in this the values can be changed\n",
    "           -it cant stores the duplicate keys but it stores duplicate values"
   ]
  },
  {
   "cell_type": "markdown",
   "id": "bd1f35f8",
   "metadata": {},
   "source": [
    "# List:"
   ]
  },
  {
   "cell_type": "code",
   "execution_count": 11,
   "id": "2e72486f",
   "metadata": {},
   "outputs": [
    {
     "name": "stdout",
     "output_type": "stream",
     "text": [
      "[23, 45, 26, 'karthik', 23, 'sai'] <class 'list'>\n"
     ]
    }
   ],
   "source": [
    "k= [23,45,26,\"karthik\",23,\"sai\"]\n",
    "print(k,type(k))"
   ]
  },
  {
   "cell_type": "code",
   "execution_count": 21,
   "id": "b236ccc4",
   "metadata": {},
   "outputs": [
    {
     "name": "stdout",
     "output_type": "stream",
     "text": [
      "45\n",
      "sai\n"
     ]
    }
   ],
   "source": [
    "print(k[1])\n",
    "print(k[-1])"
   ]
  },
  {
   "cell_type": "code",
   "execution_count": 15,
   "id": "041ec0b9",
   "metadata": {},
   "outputs": [
    {
     "name": "stdout",
     "output_type": "stream",
     "text": [
      "['__add__', '__class__', '__contains__', '__delattr__', '__delitem__', '__dir__', '__doc__', '__eq__', '__format__', '__ge__', '__getattribute__', '__getitem__', '__gt__', '__hash__', '__iadd__', '__imul__', '__init__', '__init_subclass__', '__iter__', '__le__', '__len__', '__lt__', '__mul__', '__ne__', '__new__', '__reduce__', '__reduce_ex__', '__repr__', '__reversed__', '__rmul__', '__setattr__', '__setitem__', '__sizeof__', '__str__', '__subclasshook__', 'append', 'clear', 'copy', 'count', 'extend', 'index', 'insert', 'pop', 'remove', 'reverse', 'sort']\n"
     ]
    }
   ],
   "source": [
    "print(dir(list))"
   ]
  },
  {
   "cell_type": "code",
   "execution_count": 24,
   "id": "b18cf413",
   "metadata": {},
   "outputs": [
    {
     "name": "stdout",
     "output_type": "stream",
     "text": [
      "[45, 78, 56]\n",
      "karthik\n",
      "[45, 78, 56, 'karthik']\n"
     ]
    }
   ],
   "source": [
    "m =[45,78,56]\n",
    "print(m)\n",
    "n=input()\n",
    "m.append(n)\n",
    "print(m)"
   ]
  },
  {
   "cell_type": "code",
   "execution_count": 27,
   "id": "d5ee2902",
   "metadata": {},
   "outputs": [
    {
     "name": "stdout",
     "output_type": "stream",
     "text": [
      "<class 'list'>\n"
     ]
    }
   ],
   "source": [
    "print(type(m))"
   ]
  },
  {
   "cell_type": "code",
   "execution_count": 32,
   "id": "54d48bbe",
   "metadata": {},
   "outputs": [
    {
     "name": "stdout",
     "output_type": "stream",
     "text": [
      "['tarun', 45, 148, 45.2] <class 'list'>\n",
      "['tarun', 45, 148, 45.2]\n",
      "['tarun', 45, 148, 45.2, 'prasad']\n",
      "['tarun', 45, 148, 45.2]\n",
      "['tarun', 45, 148, 45.2, 'prasad']\n",
      "['tarun', 45, 148, 45.2, 'kumar']\n"
     ]
    }
   ],
   "source": [
    "n= [\"tarun\",45,148,45.20]\n",
    "b=n.copy()\n",
    "print(b,type(b))\n",
    "print(n)\n",
    "n.append(\"prasad\")\n",
    "print(n)\n",
    "print(b)\n",
    "b.append(\"kumar\")\n",
    "print(n)\n",
    "print(b)"
   ]
  },
  {
   "cell_type": "code",
   "execution_count": 39,
   "id": "48eff08e",
   "metadata": {},
   "outputs": [
    {
     "name": "stdout",
     "output_type": "stream",
     "text": [
      "0\n",
      "2\n",
      "12 count is:2\n",
      "15 count is:1\n",
      "12 count is:2\n",
      "78 count is:1\n",
      "sonun count is:1\n"
     ]
    }
   ],
   "source": [
    "p=[12,15,12,78,\"sonun\"]\n",
    "print(p.count(1))\n",
    "print(p.count(12))\n",
    "for n in p:\n",
    "    print(\"{} count is:{}\".format(n,p.count(n)))"
   ]
  },
  {
   "cell_type": "code",
   "execution_count": 42,
   "id": "039379fb",
   "metadata": {},
   "outputs": [
    {
     "name": "stdout",
     "output_type": "stream",
     "text": [
      "[78, 89, 1245, 'prasad', 'sonu', 'tejeswini', 'lalitha']\n",
      "['sonu', 'tejeswini', 'lalitha']\n",
      "[78, 89, 1245, 'prasad', 'sonu', 'tejeswini', 'lalitha']\n",
      "['sonu', 'tejeswini', 'lalitha', 200]\n"
     ]
    }
   ],
   "source": [
    "v=[78,89,1245,\"prasad\"]\n",
    "b=[\"sonu\",\"tejeswini\",\"lalitha\"]\n",
    "v.extend(b)\n",
    "print(v)\n",
    "print(b)\n",
    "b.append(200)\n",
    "print(v)\n",
    "print(b)"
   ]
  },
  {
   "cell_type": "code",
   "execution_count": 44,
   "id": "6f8770e2",
   "metadata": {},
   "outputs": [
    {
     "name": "stdout",
     "output_type": "stream",
     "text": [
      "['rajesh', 12, 15, 19, 750]\n"
     ]
    }
   ],
   "source": [
    "x=[12,15,19,750]\n",
    "x.insert(0,\"rajesh\")\n",
    "print(x)"
   ]
  },
  {
   "cell_type": "code",
   "execution_count": 45,
   "id": "b42ab703",
   "metadata": {},
   "outputs": [
    {
     "data": {
      "text/plain": [
       "['rajesh', 12, 15, 19, 750]"
      ]
     },
     "execution_count": 45,
     "metadata": {},
     "output_type": "execute_result"
    }
   ],
   "source": [
    "x"
   ]
  },
  {
   "cell_type": "code",
   "execution_count": 47,
   "id": "0f487887",
   "metadata": {},
   "outputs": [
    {
     "name": "stdout",
     "output_type": "stream",
     "text": [
      "Help on built-in function extend:\n",
      "\n",
      "extend(iterable, /) method of builtins.list instance\n",
      "    Extend list by appending elements from the iterable.\n",
      "\n"
     ]
    }
   ],
   "source": [
    "help(x.extend)"
   ]
  },
  {
   "cell_type": "code",
   "execution_count": 49,
   "id": "fa4a265f",
   "metadata": {},
   "outputs": [
    {
     "name": "stdout",
     "output_type": "stream",
     "text": [
      "['rajesh', 12, 15, 19]\n",
      "['rajesh', 12, 15]\n"
     ]
    }
   ],
   "source": [
    "print(x)\n",
    "x.pop()\n",
    "print(x)"
   ]
  },
  {
   "cell_type": "code",
   "execution_count": 50,
   "id": "8bfe8a7e",
   "metadata": {},
   "outputs": [
    {
     "name": "stdout",
     "output_type": "stream",
     "text": [
      "['rajesh', 12, 15]\n",
      "['rajesh', 15]\n"
     ]
    }
   ],
   "source": [
    "print(x)\n",
    "x.pop(1)\n",
    "print(x)"
   ]
  },
  {
   "cell_type": "code",
   "execution_count": 51,
   "id": "b63ae3f5",
   "metadata": {},
   "outputs": [
    {
     "name": "stdout",
     "output_type": "stream",
     "text": [
      "[45, 89.15, 76]\n",
      "[45, 89.15]\n"
     ]
    }
   ],
   "source": [
    "y=[45,89.15,76]\n",
    "print(y)\n",
    "y.remove(76)\n",
    "print(y)"
   ]
  },
  {
   "cell_type": "code",
   "execution_count": 52,
   "id": "3036e325",
   "metadata": {},
   "outputs": [
    {
     "name": "stdout",
     "output_type": "stream",
     "text": [
      "[45, 89.15]\n",
      "[45, 89.15]\n"
     ]
    }
   ],
   "source": [
    "print(y)\n",
    "y.sort()\n",
    "print(y)"
   ]
  },
  {
   "cell_type": "code",
   "execution_count": 53,
   "id": "7cb651a5",
   "metadata": {},
   "outputs": [
    {
     "name": "stdout",
     "output_type": "stream",
     "text": [
      "[1, 5, 10.2, 4, 8]\n"
     ]
    }
   ],
   "source": [
    "k= [1,5,10.2,4,8]\n",
    "print(k)"
   ]
  },
  {
   "cell_type": "code",
   "execution_count": 55,
   "id": "a0ab0d7f",
   "metadata": {},
   "outputs": [
    {
     "name": "stdout",
     "output_type": "stream",
     "text": [
      "[1, 4, 5, 8, 10.2]\n",
      "[1, 4, 5, 8, 10.2]\n"
     ]
    }
   ],
   "source": [
    "print(k)\n",
    "k.sort()\n",
    "print(k)\n"
   ]
  },
  {
   "cell_type": "code",
   "execution_count": 58,
   "id": "09489823",
   "metadata": {},
   "outputs": [
    {
     "name": "stdout",
     "output_type": "stream",
     "text": [
      "['abdul', 'karthik', 'sai', 'ramu', 'zeesshan']\n",
      "['abdul', 'karthik', 'ramu', 'sai', 'zeesshan']\n"
     ]
    }
   ],
   "source": [
    "s=[\"abdul\",\"karthik\",\"sai\",\"ramu\",\"zeesshan\"]\n",
    "print(s)\n",
    "s.sort()\n",
    "print(s)"
   ]
  },
  {
   "cell_type": "code",
   "execution_count": 60,
   "id": "6f6d5cdb",
   "metadata": {},
   "outputs": [
    {
     "name": "stdout",
     "output_type": "stream",
     "text": [
      "[45, 4, 400]\n",
      "[4, 45, 400]\n"
     ]
    }
   ],
   "source": [
    "d=[45,4,400]\n",
    "f=sorted(d)\n",
    "print(d)\n",
    "print(f)"
   ]
  },
  {
   "cell_type": "code",
   "execution_count": 63,
   "id": "e526cac8",
   "metadata": {},
   "outputs": [
    {
     "name": "stdout",
     "output_type": "stream",
     "text": [
      "<class 'list'>\n"
     ]
    }
   ],
   "source": [
    "print(type(s))"
   ]
  },
  {
   "cell_type": "code",
   "execution_count": 64,
   "id": "9960dc48",
   "metadata": {},
   "outputs": [
    {
     "name": "stdout",
     "output_type": "stream",
     "text": [
      "[45, 4, 400]\n",
      "[]\n"
     ]
    }
   ],
   "source": [
    "print(d)\n",
    "d.clear()\n",
    "print(d)"
   ]
  },
  {
   "cell_type": "markdown",
   "id": "14307984",
   "metadata": {},
   "source": [
    "# Tuple:\n"
   ]
  },
  {
   "cell_type": "code",
   "execution_count": 65,
   "id": "b6dda750",
   "metadata": {},
   "outputs": [
    {
     "name": "stdout",
     "output_type": "stream",
     "text": [
      "(12, 48, 79, 5678, 'tarun') <class 'tuple'>\n"
     ]
    }
   ],
   "source": [
    "s= (12,48,79,5678,\"tarun\")\n",
    "print(s,type(s))"
   ]
  },
  {
   "cell_type": "code",
   "execution_count": 66,
   "id": "d8da975c",
   "metadata": {},
   "outputs": [
    {
     "name": "stdout",
     "output_type": "stream",
     "text": [
      "['__add__', '__class__', '__contains__', '__delattr__', '__dir__', '__doc__', '__eq__', '__format__', '__ge__', '__getattribute__', '__getitem__', '__getnewargs__', '__gt__', '__hash__', '__init__', '__init_subclass__', '__iter__', '__le__', '__len__', '__lt__', '__mul__', '__ne__', '__new__', '__reduce__', '__reduce_ex__', '__repr__', '__rmul__', '__setattr__', '__sizeof__', '__str__', '__subclasshook__', 'count', 'index']\n"
     ]
    }
   ],
   "source": [
    "print(dir(tuple))"
   ]
  },
  {
   "cell_type": "code",
   "execution_count": 67,
   "id": "d32fe887",
   "metadata": {},
   "outputs": [
    {
     "name": "stdout",
     "output_type": "stream",
     "text": [
      "(12, 48, 79, 5678, 'tarun')\n",
      "1\n",
      "(12, 48, 79, 5678, 'tarun')\n"
     ]
    }
   ],
   "source": [
    "print(s)\n",
    "print(s.count(12))\n",
    "print(s)"
   ]
  },
  {
   "cell_type": "code",
   "execution_count": 68,
   "id": "d26c90e8",
   "metadata": {},
   "outputs": [
    {
     "name": "stdout",
     "output_type": "stream",
     "text": [
      "[45, 78, 12, 96, 56] <class 'list'>\n",
      "(12, 45, 56, 78, 96)\n"
     ]
    }
   ],
   "source": [
    "p=(45,78,12,96,56)\n",
    "d=list(p)\n",
    "print(d,type(d))\n",
    "d.sort()\n",
    "q=tuple(d)\n",
    "print(q)"
   ]
  }
 ],
 "metadata": {
  "kernelspec": {
   "display_name": "Python 3",
   "language": "python",
   "name": "python3"
  },
  "language_info": {
   "codemirror_mode": {
    "name": "ipython",
    "version": 3
   },
   "file_extension": ".py",
   "mimetype": "text/x-python",
   "name": "python",
   "nbconvert_exporter": "python",
   "pygments_lexer": "ipython3",
   "version": "3.8.8"
  }
 },
 "nbformat": 4,
 "nbformat_minor": 5
}
