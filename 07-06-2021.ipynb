{
 "cells": [
  {
   "cell_type": "markdown",
   "id": "dc243b25",
   "metadata": {},
   "source": [
    "# Packages and modules:"
   ]
  },
  {
   "cell_type": "markdown",
   "id": "13ef93c5",
   "metadata": {},
   "source": [
    "## Packages:\n",
    "       -it is a simple folder - number of files and folders\n",
    "       -package =>folder\n",
    "                =>number of foldes and files\n",
    "                => collection of modules\n",
    "       -modules:=>files[.py]\n",
    "                =>collection of class,function,methods,variables "
   ]
  },
  {
   "cell_type": "code",
   "execution_count": 1,
   "id": "93e278b7",
   "metadata": {},
   "outputs": [],
   "source": [
    "import math"
   ]
  },
  {
   "cell_type": "code",
   "execution_count": 2,
   "id": "93f35315",
   "metadata": {},
   "outputs": [
    {
     "name": "stdout",
     "output_type": "stream",
     "text": [
      "['__doc__', '__loader__', '__name__', '__package__', '__spec__', 'acos', 'acosh', 'asin', 'asinh', 'atan', 'atan2', 'atanh', 'ceil', 'comb', 'copysign', 'cos', 'cosh', 'degrees', 'dist', 'e', 'erf', 'erfc', 'exp', 'expm1', 'fabs', 'factorial', 'floor', 'fmod', 'frexp', 'fsum', 'gamma', 'gcd', 'hypot', 'inf', 'isclose', 'isfinite', 'isinf', 'isnan', 'isqrt', 'ldexp', 'lgamma', 'log', 'log10', 'log1p', 'log2', 'modf', 'nan', 'perm', 'pi', 'pow', 'prod', 'radians', 'remainder', 'sin', 'sinh', 'sqrt', 'tan', 'tanh', 'tau', 'trunc']\n"
     ]
    }
   ],
   "source": [
    "print(dir(math))"
   ]
  },
  {
   "cell_type": "code",
   "execution_count": 3,
   "id": "f98c4c11",
   "metadata": {},
   "outputs": [
    {
     "name": "stdout",
     "output_type": "stream",
     "text": [
      "93326215443944152681699238856266700490715968264381621468592963895217599993229915608941463976156518286253697920827223758251185210916864000000000000000000000000\n"
     ]
    }
   ],
   "source": [
    "print(math.factorial(100))"
   ]
  },
  {
   "cell_type": "code",
   "execution_count": 6,
   "id": "6ac84b3c",
   "metadata": {},
   "outputs": [
    {
     "name": "stdout",
     "output_type": "stream",
     "text": [
      "1.0\n"
     ]
    }
   ],
   "source": [
    "print(math.cos(0))"
   ]
  },
  {
   "cell_type": "code",
   "execution_count": 1,
   "id": "315f6a7b",
   "metadata": {},
   "outputs": [],
   "source": [
    "import sample"
   ]
  },
  {
   "cell_type": "code",
   "execution_count": 2,
   "id": "cb730e6a",
   "metadata": {},
   "outputs": [
    {
     "name": "stdout",
     "output_type": "stream",
     "text": [
      "['__builtins__', '__cached__', '__doc__', '__file__', '__loader__', '__name__', '__package__', '__spec__', 'a', 'm']\n"
     ]
    }
   ],
   "source": [
    "print(dir(sample))"
   ]
  },
  {
   "cell_type": "code",
   "execution_count": 3,
   "id": "e2b5f1d8",
   "metadata": {},
   "outputs": [
    {
     "name": "stdout",
     "output_type": "stream",
     "text": [
      "hi welcome karthik your age is:40\n"
     ]
    }
   ],
   "source": [
    "print(sample.m)"
   ]
  },
  {
   "cell_type": "code",
   "execution_count": 4,
   "id": "be30aa75",
   "metadata": {},
   "outputs": [
    {
     "name": "stdout",
     "output_type": "stream",
     "text": [
      "hello\n"
     ]
    }
   ],
   "source": [
    "print(sample.a)"
   ]
  },
  {
   "cell_type": "code",
   "execution_count": 5,
   "id": "fc2c284c",
   "metadata": {},
   "outputs": [
    {
     "name": "stdout",
     "output_type": "stream",
     "text": [
      "hello\n",
      "hi welcome karthik your age is:40\n"
     ]
    }
   ],
   "source": [
    "print(sample.a)\n",
    "print(sample.m)"
   ]
  },
  {
   "cell_type": "code",
   "execution_count": 8,
   "id": "a3105f6a",
   "metadata": {},
   "outputs": [],
   "source": [
    "from karthik import demo"
   ]
  },
  {
   "cell_type": "code",
   "execution_count": 9,
   "id": "7b1cb7d6",
   "metadata": {},
   "outputs": [
    {
     "name": "stdout",
     "output_type": "stream",
     "text": [
      "['__builtins__', '__cached__', '__doc__', '__file__', '__loader__', '__name__', '__package__', '__spec__', 'a', 'j', 'p']\n"
     ]
    }
   ],
   "source": [
    "print(dir(demo))"
   ]
  },
  {
   "cell_type": "code",
   "execution_count": 11,
   "id": "08908ff6",
   "metadata": {},
   "outputs": [
    {
     "name": "stdout",
     "output_type": "stream",
     "text": [
      "20 hi 2000\n"
     ]
    }
   ],
   "source": [
    "print(demo.a,demo.j,demo.p)"
   ]
  },
  {
   "cell_type": "code",
   "execution_count": 13,
   "id": "288ad90b",
   "metadata": {},
   "outputs": [],
   "source": [
    "from karthik import *"
   ]
  },
  {
   "cell_type": "code",
   "execution_count": 14,
   "id": "32128cf9",
   "metadata": {},
   "outputs": [
    {
     "name": "stdout",
     "output_type": "stream",
     "text": [
      "hi prasad\n"
     ]
    }
   ],
   "source": [
    "print(demo.j,prasad.name)"
   ]
  },
  {
   "cell_type": "code",
   "execution_count": 15,
   "id": "c4b7c5ec",
   "metadata": {},
   "outputs": [],
   "source": [
    "from karthik import demo,prasad"
   ]
  },
  {
   "cell_type": "code",
   "execution_count": 17,
   "id": "2577dcbf",
   "metadata": {},
   "outputs": [
    {
     "name": "stdout",
     "output_type": "stream",
     "text": [
      "2000 prasad\n"
     ]
    }
   ],
   "source": [
    "print(demo.p,prasad.name)"
   ]
  },
  {
   "cell_type": "code",
   "execution_count": 18,
   "id": "ea0bd6fe",
   "metadata": {},
   "outputs": [],
   "source": [
    "from karthik.prasad import name"
   ]
  },
  {
   "cell_type": "code",
   "execution_count": 19,
   "id": "7922ce1f",
   "metadata": {},
   "outputs": [
    {
     "name": "stdout",
     "output_type": "stream",
     "text": [
      "prasad\n"
     ]
    }
   ],
   "source": [
    "print(name)"
   ]
  },
  {
   "cell_type": "code",
   "execution_count": 4,
   "id": "2fd3978f",
   "metadata": {},
   "outputs": [],
   "source": [
    "from karthik.CSE import first as c\n",
    "from karthik.ECE import first as e"
   ]
  },
  {
   "cell_type": "code",
   "execution_count": 5,
   "id": "51d0897f",
   "metadata": {},
   "outputs": [
    {
     "name": "stdout",
     "output_type": "stream",
     "text": [
      "['__builtins__', '__cached__', '__doc__', '__file__', '__loader__', '__name__', '__package__', '__spec__', 'q']\n"
     ]
    }
   ],
   "source": [
    "print(dir(first))"
   ]
  },
  {
   "cell_type": "code",
   "execution_count": 6,
   "id": "eab642f0",
   "metadata": {},
   "outputs": [
    {
     "name": "stdout",
     "output_type": "stream",
     "text": [
      "['__builtins__', '__cached__', '__doc__', '__file__', '__loader__', '__name__', '__package__', '__spec__', 'm']\n",
      "['__builtins__', '__cached__', '__doc__', '__file__', '__loader__', '__name__', '__package__', '__spec__', 'q']\n"
     ]
    }
   ],
   "source": [
    "print(dir(c))\n",
    "print(dir(e\n",
    "         ))"
   ]
  },
  {
   "cell_type": "code",
   "execution_count": 7,
   "id": "da861646",
   "metadata": {},
   "outputs": [
    {
     "name": "stdout",
     "output_type": "stream",
     "text": [
      "first year from cse\n",
      "first year from ece\n"
     ]
    }
   ],
   "source": [
    "print(c.m)\n",
    "print(e.q)"
   ]
  },
  {
   "cell_type": "code",
   "execution_count": 12,
   "id": "4e76429b",
   "metadata": {},
   "outputs": [
    {
     "ename": "ModuleNotFoundError",
     "evalue": "No module named 'calsi'",
     "output_type": "error",
     "traceback": [
      "\u001b[1;31m---------------------------------------------------------------------------\u001b[0m",
      "\u001b[1;31mModuleNotFoundError\u001b[0m                       Traceback (most recent call last)",
      "\u001b[1;32m<ipython-input-12-187b7270e48c>\u001b[0m in \u001b[0;36m<module>\u001b[1;34m\u001b[0m\n\u001b[1;32m----> 1\u001b[1;33m \u001b[1;32mfrom\u001b[0m \u001b[0mcalsi\u001b[0m \u001b[1;32mimport\u001b[0m \u001b[0mdemoo\u001b[0m\u001b[1;33m\u001b[0m\u001b[1;33m\u001b[0m\u001b[0m\n\u001b[0m",
      "\u001b[1;31mModuleNotFoundError\u001b[0m: No module named 'calsi'"
     ]
    }
   ],
   "source": [
    "from calsi"
   ]
  }
 ],
 "metadata": {
  "kernelspec": {
   "display_name": "Python 3",
   "language": "python",
   "name": "python3"
  },
  "language_info": {
   "codemirror_mode": {
    "name": "ipython",
    "version": 3
   },
   "file_extension": ".py",
   "mimetype": "text/x-python",
   "name": "python",
   "nbconvert_exporter": "python",
   "pygments_lexer": "ipython3",
   "version": "3.8.8"
  }
 },
 "nbformat": 4,
 "nbformat_minor": 5
}
