{
 "cells": [
  {
   "cell_type": "markdown",
   "id": "4bb4508b",
   "metadata": {},
   "source": [
    "# Markdown format"
   ]
  },
  {
   "cell_type": "markdown",
   "id": "fca03e98",
   "metadata": {},
   "source": [
    "# Heading-1\n",
    "## Heading-2\n",
    "### Heading-3\n",
    "#### Heading-4\n",
    "##### Heading-5\n",
    "###### Heading-6\n",
    "####### Heading-7"
   ]
  },
  {
   "cell_type": "markdown",
   "id": "470d6be3",
   "metadata": {},
   "source": [
    "## Python Installations,Executions ways,Jupyter istallation"
   ]
  },
  {
   "cell_type": "markdown",
   "id": "4f11250f",
   "metadata": {},
   "source": [
    "## variable:\n",
    "    -To store a value\n",
    "    -To access the value in different functions,methods\n",
    "    -To change values"
   ]
  },
  {
   "cell_type": "code",
   "execution_count": 4,
   "id": "62eb2fdf",
   "metadata": {},
   "outputs": [],
   "source": [
    "a = 10"
   ]
  },
  {
   "cell_type": "code",
   "execution_count": 5,
   "id": "67f6b394",
   "metadata": {},
   "outputs": [
    {
     "data": {
      "text/plain": [
       "10"
      ]
     },
     "execution_count": 5,
     "metadata": {},
     "output_type": "execute_result"
    }
   ],
   "source": [
    "a"
   ]
  },
  {
   "cell_type": "code",
   "execution_count": 6,
   "id": "1d2a7ad9",
   "metadata": {},
   "outputs": [],
   "source": [
    "b = 20"
   ]
  },
  {
   "cell_type": "code",
   "execution_count": 7,
   "id": "fade0add",
   "metadata": {},
   "outputs": [
    {
     "data": {
      "text/plain": [
       "20"
      ]
     },
     "execution_count": 7,
     "metadata": {},
     "output_type": "execute_result"
    }
   ],
   "source": [
    "b"
   ]
  },
  {
   "cell_type": "code",
   "execution_count": 8,
   "id": "8c7413aa",
   "metadata": {},
   "outputs": [
    {
     "data": {
      "text/plain": [
       "'rajesh'"
      ]
     },
     "execution_count": 8,
     "metadata": {},
     "output_type": "execute_result"
    }
   ],
   "source": [
    "a = 200\n",
    "b = 'rajesh'\n",
    "a\n",
    "b"
   ]
  },
  {
   "cell_type": "code",
   "execution_count": 9,
   "id": "538a5c83",
   "metadata": {},
   "outputs": [
    {
     "name": "stdout",
     "output_type": "stream",
     "text": [
      "200 rajesh\n",
      "rajesh 200\n"
     ]
    }
   ],
   "source": [
    "print(a,b)\n",
    "print(b,a)\n"
   ]
  },
  {
   "cell_type": "markdown",
   "id": "d1b5de5a",
   "metadata": {},
   "source": [
    "## Data types\n",
    "    -Int(only numbers)\n",
    "    -Float(decimal points)\n",
    "    -String(either with ' or ')"
   ]
  },
  {
   "cell_type": "code",
   "execution_count": 10,
   "id": "7c70a71e",
   "metadata": {},
   "outputs": [],
   "source": [
    "c = 23.000\n",
    "t='tarun'"
   ]
  },
  {
   "cell_type": "code",
   "execution_count": 11,
   "id": "3bfabc62",
   "metadata": {},
   "outputs": [],
   "source": [
    "c,t = 23.000,'tarun'"
   ]
  },
  {
   "cell_type": "code",
   "execution_count": 12,
   "id": "74c4f8c7",
   "metadata": {},
   "outputs": [
    {
     "name": "stdout",
     "output_type": "stream",
     "text": [
      "23.0 tarun\n"
     ]
    }
   ],
   "source": [
    "print(c,t)"
   ]
  },
  {
   "cell_type": "code",
   "execution_count": 13,
   "id": "ca73c03b",
   "metadata": {},
   "outputs": [
    {
     "data": {
      "text/plain": [
       "23.0"
      ]
     },
     "execution_count": 13,
     "metadata": {},
     "output_type": "execute_result"
    }
   ],
   "source": [
    "c"
   ]
  },
  {
   "cell_type": "markdown",
   "id": "11b28781",
   "metadata": {},
   "source": [
    "## Type:\n",
    "     -To known the data type for that value\n",
    "     -Type(variable name,data structure)"
   ]
  },
  {
   "cell_type": "code",
   "execution_count": 14,
   "id": "6900af8f",
   "metadata": {},
   "outputs": [
    {
     "data": {
      "text/plain": [
       "float"
      ]
     },
     "execution_count": 14,
     "metadata": {},
     "output_type": "execute_result"
    }
   ],
   "source": [
    "type(c)"
   ]
  },
  {
   "cell_type": "code",
   "execution_count": 15,
   "id": "b63b76ad",
   "metadata": {},
   "outputs": [
    {
     "data": {
      "text/plain": [
       "'12.056'"
      ]
     },
     "execution_count": 15,
     "metadata": {},
     "output_type": "execute_result"
    }
   ],
   "source": [
    "g = '12.056'\n",
    "g"
   ]
  },
  {
   "cell_type": "code",
   "execution_count": 16,
   "id": "96e6eecd",
   "metadata": {},
   "outputs": [
    {
     "name": "stdout",
     "output_type": "stream",
     "text": [
      "12.056\n"
     ]
    }
   ],
   "source": [
    "print(g)"
   ]
  },
  {
   "cell_type": "code",
   "execution_count": 17,
   "id": "c422204a",
   "metadata": {},
   "outputs": [
    {
     "name": "stdout",
     "output_type": "stream",
     "text": [
      "<class 'str'>\n"
     ]
    }
   ],
   "source": [
    "print(type(g))"
   ]
  },
  {
   "cell_type": "code",
   "execution_count": 18,
   "id": "cc846389",
   "metadata": {},
   "outputs": [
    {
     "name": "stdout",
     "output_type": "stream",
     "text": [
      "<class 'float'>\n"
     ]
    }
   ],
   "source": [
    "print(type(c))"
   ]
  },
  {
   "cell_type": "code",
   "execution_count": 19,
   "id": "c4348ec7",
   "metadata": {},
   "outputs": [
    {
     "name": "stdout",
     "output_type": "stream",
     "text": [
      "<class 'int'>\n"
     ]
    }
   ],
   "source": [
    "print(type(a))"
   ]
  },
  {
   "cell_type": "code",
   "execution_count": 20,
   "id": "7c41f5a2",
   "metadata": {},
   "outputs": [
    {
     "name": "stdout",
     "output_type": "stream",
     "text": [
      "<class 'int'> <class 'float'> <class 'str'>\n"
     ]
    }
   ],
   "source": [
    "print(type(a),type(c),type(g))"
   ]
  },
  {
   "cell_type": "markdown",
   "id": "3c86ccc0",
   "metadata": {},
   "source": [
    "## Input():\n",
    "    -By default it will be consider as a string value\n",
    "    -Print(),read()"
   ]
  },
  {
   "cell_type": "code",
   "execution_count": null,
   "id": "bb730e51",
   "metadata": {},
   "outputs": [],
   "source": [
    "a = input()\n",
    "print(a)"
   ]
  },
  {
   "cell_type": "code",
   "execution_count": null,
   "id": "ad38dd48",
   "metadata": {},
   "outputs": [],
   "source": [
    "d = 20"
   ]
  },
  {
   "cell_type": "code",
   "execution_count": null,
   "id": "397fdbde",
   "metadata": {},
   "outputs": [],
   "source": [
    "d"
   ]
  },
  {
   "cell_type": "code",
   "execution_count": null,
   "id": "cd4c9070",
   "metadata": {},
   "outputs": [],
   "source": [
    "t = input('enter a value:')\n",
    "print(t,type(t))"
   ]
  },
  {
   "cell_type": "markdown",
   "id": "31be91bb",
   "metadata": {},
   "source": [
    "## Type casting\n",
    "     -Converting one data into another data\n",
    "      -int(),str(),float()"
   ]
  },
  {
   "cell_type": "code",
   "execution_count": 1,
   "id": "5713436a",
   "metadata": {},
   "outputs": [
    {
     "name": "stdout",
     "output_type": "stream",
     "text": [
      "12\n",
      "35.00\n",
      "12 35.0\n"
     ]
    }
   ],
   "source": [
    "a = int(input())\n",
    "b = float(input())\n",
    "print(a,b)"
   ]
  },
  {
   "cell_type": "code",
   "execution_count": 2,
   "id": "340e75df",
   "metadata": {},
   "outputs": [
    {
     "name": "stdout",
     "output_type": "stream",
     "text": [
      "enter only integer values:55\n",
      "55 <class 'int'>\n"
     ]
    }
   ],
   "source": [
    "p = int(input(\"enter only integer values:\"))\n",
    "print(p,type(p))\n"
   ]
  },
  {
   "cell_type": "code",
   "execution_count": 3,
   "id": "e53bc5dc",
   "metadata": {},
   "outputs": [
    {
     "name": "stdout",
     "output_type": "stream",
     "text": [
      "enter the float values:55.01\n",
      "55.01 <class 'float'>\n"
     ]
    }
   ],
   "source": [
    "m = float(input(\"enter the float values:\"))\n",
    "print(m,type(m))"
   ]
  },
  {
   "cell_type": "code",
   "execution_count": 5,
   "id": "6537fbad",
   "metadata": {},
   "outputs": [
    {
     "name": "stdout",
     "output_type": "stream",
     "text": [
      "enter the string value:\"hi\"\n",
      "\"hi\" <class 'str'>\n"
     ]
    }
   ],
   "source": [
    "r = str(input(\"enter the string value:\"))\n",
    "print(r,type(r))"
   ]
  },
  {
   "cell_type": "code",
   "execution_count": 10,
   "id": "5f0ff5c0",
   "metadata": {},
   "outputs": [
    {
     "name": "stdout",
     "output_type": "stream",
     "text": [
      "enter the integer value:52\n",
      "enter the float value:52.025\n",
      "enter the string value:'252'\n",
      "<class 'int'> <class 'float'> <class 'str'>\n"
     ]
    }
   ],
   "source": [
    "q = int(input(\"enter the integer value:\"))\n",
    "s = float(input(\"enter the float value:\"))\n",
    "t = str(input(\"enter the string value:\"))\n",
    "print(type(q),type(s),type(t))"
   ]
  },
  {
   "cell_type": "code",
   "execution_count": null,
   "id": "20653ff8",
   "metadata": {},
   "outputs": [],
   "source": []
  }
 ],
 "metadata": {
  "kernelspec": {
   "display_name": "Python 3",
   "language": "python",
   "name": "python3"
  },
  "language_info": {
   "codemirror_mode": {
    "name": "ipython",
    "version": 3
   },
   "file_extension": ".py",
   "mimetype": "text/x-python",
   "name": "python",
   "nbconvert_exporter": "python",
   "pygments_lexer": "ipython3",
   "version": "3.8.8"
  }
 },
 "nbformat": 4,
 "nbformat_minor": 5
}
