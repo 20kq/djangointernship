{
 "cells": [
  {
   "cell_type": "markdown",
   "id": "d38e83a1",
   "metadata": {},
   "source": [
    "# Files Packages and Modules:"
   ]
  },
  {
   "cell_type": "markdown",
   "id": "72d5b366",
   "metadata": {},
   "source": [
    "# Files:\n",
    "      -> files are used to store the values or data permenently\n",
    "      ->the file formats are .py,.text,.java,.csv\n",
    "      ->there are three modes \n",
    "             ->read->r->if file doesnot exisits it displays an error.if file exists it reads the data in file\n",
    "             ->write->w->if file doesnot exists it creates a file with user defined file name.If file already exists it writes to a file,previous data will be errased and new data will be added\n",
    "             ->Append->a->If file doesnot exists it creates a file with user defined file name.If the file exists it writes to a file ,it will add new data for existing file\n",
    "             ->execute->x->If the file is not exist with file name then it creates a file with user defined file name"
   ]
  },
  {
   "cell_type": "code",
   "execution_count": 11,
   "id": "a13e2726",
   "metadata": {},
   "outputs": [],
   "source": [
    "with open('karthikdata/data.text','w') as ft:\n",
    "    ft.write(\"hello good evening\")"
   ]
  },
  {
   "cell_type": "code",
   "execution_count": 18,
   "id": "88f1db92",
   "metadata": {},
   "outputs": [
    {
     "name": "stdout",
     "output_type": "stream",
     "text": [
      "good evening\n"
     ]
    }
   ],
   "source": [
    "with open('karthikdata/data1.text','r') as fr:\n",
    "    print(fr.read())"
   ]
  },
  {
   "cell_type": "code",
   "execution_count": 15,
   "id": "9d8b7644",
   "metadata": {},
   "outputs": [],
   "source": [
    "with open('karthikdata/data.text','a') as fa:\n",
    "    fa.write(\"\\n hi good\")"
   ]
  },
  {
   "cell_type": "code",
   "execution_count": 19,
   "id": "219b70f1",
   "metadata": {},
   "outputs": [
    {
     "ename": "FileExistsError",
     "evalue": "[Errno 17] File exists: 'karthikdata/data1.text'",
     "output_type": "error",
     "traceback": [
      "\u001b[1;31m---------------------------------------------------------------------------\u001b[0m",
      "\u001b[1;31mFileExistsError\u001b[0m                           Traceback (most recent call last)",
      "\u001b[1;32m<ipython-input-19-d157591aa75a>\u001b[0m in \u001b[0;36m<module>\u001b[1;34m\u001b[0m\n\u001b[1;32m----> 1\u001b[1;33m \u001b[1;32mwith\u001b[0m \u001b[0mopen\u001b[0m\u001b[1;33m(\u001b[0m\u001b[1;34m'karthikdata/data1.text'\u001b[0m\u001b[1;33m,\u001b[0m\u001b[1;34m'x'\u001b[0m\u001b[1;33m)\u001b[0m \u001b[1;32mas\u001b[0m \u001b[0mfx\u001b[0m\u001b[1;33m:\u001b[0m\u001b[1;33m\u001b[0m\u001b[1;33m\u001b[0m\u001b[0m\n\u001b[0m\u001b[0;32m      2\u001b[0m     \u001b[1;32mwith\u001b[0m \u001b[0mopen\u001b[0m\u001b[1;33m(\u001b[0m\u001b[1;34m'karthikdata/data1.text'\u001b[0m\u001b[1;33m,\u001b[0m\u001b[1;34m'w'\u001b[0m\u001b[1;33m)\u001b[0m \u001b[1;32mas\u001b[0m \u001b[0mg\u001b[0m\u001b[1;33m:\u001b[0m\u001b[1;33m\u001b[0m\u001b[1;33m\u001b[0m\u001b[0m\n\u001b[0;32m      3\u001b[0m         \u001b[0mg\u001b[0m\u001b[1;33m.\u001b[0m\u001b[0mwrite\u001b[0m\u001b[1;33m(\u001b[0m\u001b[1;34m'good evening'\u001b[0m\u001b[1;33m)\u001b[0m\u001b[1;33m\u001b[0m\u001b[1;33m\u001b[0m\u001b[0m\n",
      "\u001b[1;31mFileExistsError\u001b[0m: [Errno 17] File exists: 'karthikdata/data1.text'"
     ]
    }
   ],
   "source": [
    "with open('karthikdata/data1.text','x') as fx:\n",
    "    with open('karthikdata/data1.text','w') as g:\n",
    "        g.write('good evening')"
   ]
  },
  {
   "cell_type": "code",
   "execution_count": 33,
   "id": "95102eb2",
   "metadata": {},
   "outputs": [
    {
     "name": "stdout",
     "output_type": "stream",
     "text": [
      "enter a range5\n",
      "enter a namea\n",
      "enter a nameb\n",
      "enter a namec\n",
      "enter a named\n",
      "enter a namee\n"
     ]
    }
   ],
   "source": [
    "with open (\"karthikdata/Input.csv\",'w') as fw:\n",
    "    n=int(input(\"enter a range\"))\n",
    "    for j in range(1,n+1):\n",
    "        m=input(\"enter a name\")\n",
    "        fw.write(m+\"\\n\")\n"
   ]
  },
  {
   "cell_type": "code",
   "execution_count": 27,
   "id": "356362af",
   "metadata": {},
   "outputs": [
    {
     "name": "stdout",
     "output_type": "stream",
     "text": [
      "['_CHUNK_SIZE', '__class__', '__del__', '__delattr__', '__dict__', '__dir__', '__doc__', '__enter__', '__eq__', '__exit__', '__format__', '__ge__', '__getattribute__', '__gt__', '__hash__', '__init__', '__init_subclass__', '__iter__', '__le__', '__lt__', '__ne__', '__new__', '__next__', '__reduce__', '__reduce_ex__', '__repr__', '__setattr__', '__sizeof__', '__str__', '__subclasshook__', '_checkClosed', '_checkReadable', '_checkSeekable', '_checkWritable', '_finalizing', 'buffer', 'close', 'closed', 'detach', 'encoding', 'errors', 'fileno', 'flush', 'isatty', 'line_buffering', 'mode', 'name', 'newlines', 'read', 'readable', 'readline', 'readlines', 'reconfigure', 'seek', 'seekable', 'tell', 'truncate', 'writable', 'write', 'write_through', 'writelines']\n"
     ]
    }
   ],
   "source": [
    "print(dir(fw))"
   ]
  },
  {
   "cell_type": "code",
   "execution_count": 40,
   "id": "1832338c",
   "metadata": {},
   "outputs": [
    {
     "name": "stdout",
     "output_type": "stream",
     "text": [
      "['a']\n",
      "['a', 'b']\n",
      "['a', 'b', 'c']\n",
      "['a', 'b', 'c', 'd']\n",
      "['a', 'b', 'c', 'd', 'e']\n"
     ]
    }
   ],
   "source": [
    "with open (\"karthikdata/Input.csv\",'r') as fr:\n",
    "    s=fr.readlines()\n",
    "    q=[]\n",
    "    for v in s:\n",
    "        q.append(v.split('\\n')[0])\n",
    "        print(q)\n"
   ]
  },
  {
   "cell_type": "code",
   "execution_count": 43,
   "id": "5d424f4a",
   "metadata": {},
   "outputs": [
    {
     "name": "stdout",
     "output_type": "stream",
     "text": [
      "enter range20\n"
     ]
    }
   ],
   "source": [
    "with open('karthikdata/Input.text','w') as r:\n",
    "    r.write(input(\"enter range\"))"
   ]
  },
  {
   "cell_type": "code",
   "execution_count": 53,
   "id": "be6c09f8",
   "metadata": {},
   "outputs": [],
   "source": [
    "with open(\"karthikdata/Input.text\",'r') as g:\n",
    "    f=g.readlines()\n",
    "    with open('karthikdata/Output.text','w') as wy:\n",
    "        wy.write('entered number is:{}'.format(f[0]))\n",
    "        x=[]\n",
    "        for n in range(1,int(f[0])+1):\n",
    "            if n%2==0:\n",
    "                h=str(n)+\",\"\n",
    "                x.append(h)\n",
    "            t = \" \".join(x)\n",
    "            wy.write(\"even numbers in range {} is:{}\".format(f[0],t))"
   ]
  },
  {
   "cell_type": "code",
   "execution_count": null,
   "id": "34eb9920",
   "metadata": {},
   "outputs": [],
   "source": []
  }
 ],
 "metadata": {
  "kernelspec": {
   "display_name": "Python 3",
   "language": "python",
   "name": "python3"
  },
  "language_info": {
   "codemirror_mode": {
    "name": "ipython",
    "version": 3
   },
   "file_extension": ".py",
   "mimetype": "text/x-python",
   "name": "python",
   "nbconvert_exporter": "python",
   "pygments_lexer": "ipython3",
   "version": "3.8.8"
  }
 },
 "nbformat": 4,
 "nbformat_minor": 5
}
