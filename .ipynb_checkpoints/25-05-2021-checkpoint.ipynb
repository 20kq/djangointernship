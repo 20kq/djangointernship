{
 "cells": [
  {
   "cell_type": "markdown",
   "id": "0ffda72e",
   "metadata": {},
   "source": [
    "# Markdown format"
   ]
  },
  {
   "cell_type": "markdown",
   "id": "fa9582ae",
   "metadata": {},
   "source": [
    "# Heading-1\n",
    "## Heading-2\n",
    "### Heading-3\n",
    "#### Heading-4\n",
    "##### Heading-5\n",
    "###### Heading-6\n",
    "####### Heading-7"
   ]
  },
  {
   "cell_type": "code",
   "execution_count": null,
   "id": "70d80791",
   "metadata": {},
   "outputs": [],
   "source": []
  }
 ],
 "metadata": {},
 "nbformat": 4,
 "nbformat_minor": 5
}
