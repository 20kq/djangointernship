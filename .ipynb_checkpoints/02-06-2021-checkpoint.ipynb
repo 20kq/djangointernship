{
 "cells": [
  {
   "cell_type": "markdown",
   "id": "b4a927d8",
   "metadata": {},
   "source": [
    "# Strings:\n",
    "        -It can be represented with in a ' or \" and we can represent other data types enclosed with ' or \"\n",
    "        -it can be typcasted as str()\n",
    "        -it has index and slicing can be done\n",
    "        -It can be change the haracter but it doesnt effect to original string"
   ]
  },
  {
   "cell_type": "code",
   "execution_count": 2,
   "id": "d14865a1",
   "metadata": {},
   "outputs": [
    {
     "name": "stdout",
     "output_type": "stream",
     "text": [
      "APSSDC Internship\n"
     ]
    }
   ],
   "source": [
    "n=\"APSSDC Internship\"\n",
    "print(n)"
   ]
  },
  {
   "cell_type": "code",
   "execution_count": 34,
   "id": "a3f83bc9",
   "metadata": {},
   "outputs": [
    {
     "name": "stdout",
     "output_type": "stream",
     "text": [
      "APSSDC Internship\n",
      "C\n",
      "h\n",
      "APSSDC Internship\n",
      "SDC Internship\n",
      "APSSDC Int\n",
      "C Inter\n",
      "terns\n",
      "e\n",
      "erns\n",
      " Int\n",
      "rns\n",
      "Inter\n",
      "DC Interns\n",
      "Cn\n",
      "CIt\n"
     ]
    }
   ],
   "source": [
    "print(n)\n",
    "print(n[5])\n",
    "print(n[-3])\n",
    "print(n[:])\n",
    "print(n[3:])\n",
    "print(n[:10])\n",
    "print(n[5:12])\n",
    "print(n[9:-3])\n",
    "print(n[-7:11])\n",
    "print(n[-7:-3])\n",
    "print(n[6:10:])\n",
    "print(n[-6:14:])\n",
    "print(n[-10:-5])\n",
    "print(n[4:-3:])\n",
    "print(n[5:10:3])\n",
    "print(n[5:-7:2])"
   ]
  },
  {
   "cell_type": "code",
   "execution_count": 22,
   "id": "fdad1c5e",
   "metadata": {},
   "outputs": [
    {
     "name": "stdout",
     "output_type": "stream",
     "text": [
      "APSSDC Internship\n",
      "APSSDC Internship\n",
      "ASD nenhp\n",
      "phnen DSA\n"
     ]
    }
   ],
   "source": [
    "print(n)\n",
    "print(n[::])\n",
    "print(n[::2])\n",
    "print(n[::-2])"
   ]
  },
  {
   "cell_type": "code",
   "execution_count": 35,
   "id": "cc31fa77",
   "metadata": {},
   "outputs": [
    {
     "name": "stdout",
     "output_type": "stream",
     "text": [
      "2314569877136548 <class 'str'>\n",
      "8456317789654132\n"
     ]
    }
   ],
   "source": [
    "m=str(2314569877136548)\n",
    "print(m,type(m))\n",
    "print(m[::-1])"
   ]
  },
  {
   "cell_type": "code",
   "execution_count": 36,
   "id": "bf3631d9",
   "metadata": {},
   "outputs": [
    {
     "name": "stdout",
     "output_type": "stream",
     "text": [
      "apssdc welcome\n",
      "sdc welco\n"
     ]
    }
   ],
   "source": [
    "n=input()\n",
    "print(n[3:-2])"
   ]
  },
  {
   "cell_type": "code",
   "execution_count": 37,
   "id": "2955174b",
   "metadata": {},
   "outputs": [
    {
     "name": "stdout",
     "output_type": "stream",
     "text": [
      "apssdc welcome\n",
      "s sdc welco apssdc welco\n"
     ]
    }
   ],
   "source": [
    "n=input()\n",
    "print(n[3]+\" \"+n[3:-2]+\" \"+n[:-2])"
   ]
  },
  {
   "cell_type": "code",
   "execution_count": 38,
   "id": "440c5c1b",
   "metadata": {},
   "outputs": [
    {
     "name": "stdout",
     "output_type": "stream",
     "text": [
      "me\n"
     ]
    }
   ],
   "source": [
    "m=\"apssdc welcome\"\n",
    "print(m[-2:])"
   ]
  },
  {
   "cell_type": "code",
   "execution_count": 39,
   "id": "ab322b04",
   "metadata": {},
   "outputs": [
    {
     "name": "stdout",
     "output_type": "stream",
     "text": [
      "['__add__', '__class__', '__contains__', '__delattr__', '__dir__', '__doc__', '__eq__', '__format__', '__ge__', '__getattribute__', '__getitem__', '__getnewargs__', '__gt__', '__hash__', '__init__', '__init_subclass__', '__iter__', '__le__', '__len__', '__lt__', '__mod__', '__mul__', '__ne__', '__new__', '__reduce__', '__reduce_ex__', '__repr__', '__rmod__', '__rmul__', '__setattr__', '__sizeof__', '__str__', '__subclasshook__', 'capitalize', 'casefold', 'center', 'count', 'encode', 'endswith', 'expandtabs', 'find', 'format', 'format_map', 'index', 'isalnum', 'isalpha', 'isascii', 'isdecimal', 'isdigit', 'isidentifier', 'islower', 'isnumeric', 'isprintable', 'isspace', 'istitle', 'isupper', 'join', 'ljust', 'lower', 'lstrip', 'maketrans', 'partition', 'replace', 'rfind', 'rindex', 'rjust', 'rpartition', 'rsplit', 'rstrip', 'split', 'splitlines', 'startswith', 'strip', 'swapcase', 'title', 'translate', 'upper', 'zfill']\n"
     ]
    }
   ],
   "source": [
    "print(dir(str))"
   ]
  },
  {
   "cell_type": "code",
   "execution_count": 40,
   "id": "13d7c96c",
   "metadata": {},
   "outputs": [
    {
     "name": "stdout",
     "output_type": "stream",
     "text": [
      "welcome to APSSDC Program\n"
     ]
    }
   ],
   "source": [
    "b=\"welcome to APSSDC Program\"\n",
    "print(b)"
   ]
  },
  {
   "cell_type": "code",
   "execution_count": 45,
   "id": "9ed1031f",
   "metadata": {},
   "outputs": [
    {
     "name": "stdout",
     "output_type": "stream",
     "text": [
      "welcome to APSSDC Program\n",
      "Welcome to apssdc program\n",
      "welcome to apssdc program\n",
      "Welcome To Apssdc Program\n",
      "WELCOME TO apssdc pROGRAM\n"
     ]
    }
   ],
   "source": [
    "print(b)\n",
    "print(b.capitalize())\n",
    "print(b.casefold())\n",
    "print(b.title())\n",
    "print(b.swapcase())\n"
   ]
  },
  {
   "cell_type": "code",
   "execution_count": 49,
   "id": "9968d8d4",
   "metadata": {},
   "outputs": [
    {
     "name": "stdout",
     "output_type": "stream",
     "text": [
      "WELCOME TO APSSDC PROGRAM\n",
      "welcome to apssdc program\n",
      "True\n",
      "False\n"
     ]
    }
   ],
   "source": [
    "print(b.upper())\n",
    "print(b.lower())\n",
    "print(b.startswith(\"w\"))\n",
    "print(b.endswith(\"s\"))"
   ]
  },
  {
   "cell_type": "code",
   "execution_count": 51,
   "id": "624d6d19",
   "metadata": {},
   "outputs": [
    {
     "name": "stdout",
     "output_type": "stream",
     "text": [
      "welcome to APSSDC Program\n",
      "['welcome', 'to', 'APSSDC', 'Program']\n",
      "['welcome to APSSDC Progr', 'm']\n"
     ]
    }
   ],
   "source": [
    "print(b)\n",
    "print(b.split())\n",
    "print(b.split(\"a\"))"
   ]
  },
  {
   "cell_type": "code",
   "execution_count": 52,
   "id": "b45dbd5d",
   "metadata": {},
   "outputs": [
    {
     "name": "stdout",
     "output_type": "stream",
     "text": [
      "karthik sai\n",
      "['karthik', 'sai']\n"
     ]
    }
   ],
   "source": [
    "n=input().split()\n",
    "print(n)"
   ]
  },
  {
   "cell_type": "code",
   "execution_count": 59,
   "id": "b717e037",
   "metadata": {
    "scrolled": true
   },
   "outputs": [
    {
     "name": "stdout",
     "output_type": "stream",
     "text": [
      "1\n",
      "2\n",
      "20\n",
      "12\n",
      "20\n"
     ]
    }
   ],
   "source": [
    "print(b.find('e'))\n",
    "print(b.count(\"e\"))\n",
    "print(b.rfind(\"o\"))\n",
    "print(b.index(\"P\"))\n",
    "print(b.rindex(\"o\"))"
   ]
  },
  {
   "cell_type": "code",
   "execution_count": 63,
   "id": "866c214f",
   "metadata": {},
   "outputs": [
    {
     "name": "stdout",
     "output_type": "stream",
     "text": [
      "        sample\n",
      "ramu       \n",
      "sample\n",
      "ramu\n",
      "sample\n",
      "ramu\n"
     ]
    }
   ],
   "source": [
    "d=\"        sample\"\n",
    "e=\"ramu       \"\n",
    "print(d)\n",
    "print(e)\n",
    "print(d.strip())\n",
    "print(e.strip())\n",
    "print(d.lstrip())\n",
    "print(e.rstrip())"
   ]
  },
  {
   "cell_type": "code",
   "execution_count": 68,
   "id": "cded2092",
   "metadata": {},
   "outputs": [
    {
     "name": "stdout",
     "output_type": "stream",
     "text": [
      "        sample\n",
      "        sample                                    \n",
      "ramu                                              \n",
      "                                                                sample\n",
      "                                                           ramu       \n",
      "000000        sample\n"
     ]
    }
   ],
   "source": [
    "print(d)\n",
    "print(d.ljust(50))\n",
    "print(e.ljust(50))\n",
    "print(d.rjust(70))\n",
    "print(e.rjust(70))\n",
    "print(d.zfill(20))"
   ]
  },
  {
   "cell_type": "code",
   "execution_count": 72,
   "id": "4e0010be",
   "metadata": {},
   "outputs": [
    {
     "name": "stdout",
     "output_type": "stream",
     "text": [
      "apssdc\n",
      "APSSDC\n",
      "apssdc\n",
      "2\n"
     ]
    }
   ],
   "source": [
    "z=\"APSSDC\"\n",
    "print(z.lower())\n",
    "print(z.upper())\n",
    "print(z.casefold())\n",
    "print(z.count(\"S\"))"
   ]
  },
  {
   "cell_type": "code",
   "execution_count": 77,
   "id": "f2a2d3c5",
   "metadata": {},
   "outputs": [
    {
     "name": "stdout",
     "output_type": "stream",
     "text": [
      "APSSDC\n",
      "xPSSDC\n"
     ]
    }
   ],
   "source": [
    "print(z)\n",
    "print(z.replace('A','x'))"
   ]
  },
  {
   "cell_type": "code",
   "execution_count": 79,
   "id": "a0f67108",
   "metadata": {},
   "outputs": [
    {
     "name": "stdout",
     "output_type": "stream",
     "text": [
      "k a r t h i k\n",
      "karthik\n"
     ]
    }
   ],
   "source": [
    "k=\"karthik\"\n",
    "a=\" \".join(k)\n",
    "print(a)\n",
    "print(k)\n"
   ]
  },
  {
   "cell_type": "code",
   "execution_count": 82,
   "id": "cb9c43ca",
   "metadata": {},
   "outputs": [
    {
     "name": "stdout",
     "output_type": "stream",
     "text": [
      "36-25-52\n"
     ]
    }
   ],
   "source": [
    "t=[\"36\",\"25\",\"52\"]\n",
    "g=\"-\".join(t)\n",
    "print(g)"
   ]
  },
  {
   "cell_type": "code",
   "execution_count": 83,
   "id": "0382b7fb",
   "metadata": {},
   "outputs": [
    {
     "name": "stdout",
     "output_type": "stream",
     "text": [
      "20kq5a0513-karthik-paceits\n",
      "['20kq5a0513', 'karthik', 'paceits']\n",
      "10\n"
     ]
    }
   ],
   "source": [
    "n=input().split(\"-\")\n",
    "print(n)\n",
    "print(len(n[0]))"
   ]
  },
  {
   "cell_type": "code",
   "execution_count": 84,
   "id": "48f69804",
   "metadata": {},
   "outputs": [
    {
     "name": "stdout",
     "output_type": "stream",
     "text": [
      "1 4 5 2 4 5 8 7 4 5 4 5 8 8 "
     ]
    }
   ],
   "source": [
    "k='14524587454588'\n",
    "for i in k:\n",
    "    print(i,end=\" \")"
   ]
  },
  {
   "cell_type": "code",
   "execution_count": 86,
   "id": "6e82e391",
   "metadata": {},
   "outputs": [
    {
     "name": "stdout",
     "output_type": "stream",
     "text": [
      "True\n",
      "False\n"
     ]
    }
   ],
   "source": [
    "print(k.isnumeric())\n",
    "print(k.isalpha())"
   ]
  },
  {
   "cell_type": "code",
   "execution_count": 87,
   "id": "ce2d7174",
   "metadata": {},
   "outputs": [
    {
     "name": "stdout",
     "output_type": "stream",
     "text": [
      "145\\856548548\n",
      "given string is :145\\856548548\n"
     ]
    }
   ],
   "source": [
    "k=input()\n",
    "print(\"given string is :{}\".format(k))\n"
   ]
  }
 ],
 "metadata": {
  "kernelspec": {
   "display_name": "Python 3",
   "language": "python",
   "name": "python3"
  },
  "language_info": {
   "codemirror_mode": {
    "name": "ipython",
    "version": 3
   },
   "file_extension": ".py",
   "mimetype": "text/x-python",
   "name": "python",
   "nbconvert_exporter": "python",
   "pygments_lexer": "ipython3",
   "version": "3.8.8"
  }
 },
 "nbformat": 4,
 "nbformat_minor": 5
}
