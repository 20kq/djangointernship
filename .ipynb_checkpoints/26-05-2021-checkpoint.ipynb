{
 "cells": [
  {
   "cell_type": "markdown",
   "id": "5b64c544",
   "metadata": {},
   "source": [
    "### Output\n",
    "       -%\n",
    "       -, +\n",
    "       -.format"
   ]
  },
  {
   "cell_type": "code",
   "execution_count": 5,
   "id": "9133ddd0",
   "metadata": {},
   "outputs": [
    {
     "name": "stdout",
     "output_type": "stream",
     "text": [
      "enter a value:15\n",
      "enter a name:hi\n",
      "entered number is:15\n",
      "entered name is:hi\n"
     ]
    }
   ],
   "source": [
    "n = int(input(\"enter a value:\"))\n",
    "m = input(\"enter a name:\")\n",
    "print(\"entered number is:%d\"%n)\n",
    "print(\"entered name is:%s\"%m)"
   ]
  },
  {
   "cell_type": "code",
   "execution_count": 2,
   "id": "fcf6b60f",
   "metadata": {},
   "outputs": [
    {
     "name": "stdout",
     "output_type": "stream",
     "text": [
      "entered number is:15and entered name israjesh\n"
     ]
    }
   ],
   "source": [
    "print(\"entered number is:%dand entered name is%s\"%(n,m\n",
    "                                                  ))"
   ]
  },
  {
   "cell_type": "code",
   "execution_count": 6,
   "id": "e04d7596",
   "metadata": {},
   "outputs": [
    {
     "name": "stdout",
     "output_type": "stream",
     "text": [
      "red number is:15 and entered name is :hi\n",
      "red number is:hi and entered name is :15\n"
     ]
    }
   ],
   "source": [
    "print(\"red number is:{} and entered name is :{}\".format(n,m))\n",
    "print(\"red number is:{1} and entered name is :{0}\".format(n,m))"
   ]
  },
  {
   "cell_type": "markdown",
   "id": "a513158f",
   "metadata": {},
   "source": [
    "## Operators:\n",
    "      -arithmetic:+,-,*,/,%,floor(//  -> exact integer), exponentia(** -> pow())\n",
    "      -logical -> and,or,not    true or false\n",
    "      -bitwise -> &&,\\\\,>>,<<    value\n",
    "      -relational -> ++,!=,>=,<=,<,>\n",
    "      -assignment ->+=,-+,*=,/=,%=\n",
    "      -membership -> in,notin\n",
    "      -identity ->is,isnot"
   ]
  },
  {
   "cell_type": "markdown",
   "id": "fb395d55",
   "metadata": {},
   "source": [
    "## Conditional statements:\n",
    "      -To check whther a given condition is either true or false\n",
    "      - if,nested if,if-else,elif ladder\n",
    "      "
   ]
  },
  {
   "cell_type": "markdown",
   "id": "b8d5845d",
   "metadata": {},
   "source": [
    "## if -> single case[T or F]\n",
    "\n",
    "        syntax :\n",
    "               if(condition):\n",
    "        //stmt"
   ]
  },
  {
   "cell_type": "code",
   "execution_count": 9,
   "id": "a539e64b",
   "metadata": {},
   "outputs": [
    {
     "name": "stdout",
     "output_type": "stream",
     "text": [
      "45\n",
      "entered value is: 45\n"
     ]
    }
   ],
   "source": [
    "n = int(input())\n",
    "if n == 45:\n",
    "    print(\"entered value is: {}\".format(n))"
   ]
  },
  {
   "cell_type": "markdown",
   "id": "7196e6ee",
   "metadata": {},
   "source": [
    "## if-else-> twocases[T or F]\n",
    "        syntax:\n",
    "             if(condition-1):\n",
    "             //true statement\n",
    "           else:\n",
    "               //False statement"
   ]
  },
  {
   "cell_type": "code",
   "execution_count": 10,
   "id": "872f03e0",
   "metadata": {},
   "outputs": [
    {
     "name": "stdout",
     "output_type": "stream",
     "text": [
      "12\n",
      "26\n",
      "entered value 12 is not equal to 26\n"
     ]
    }
   ],
   "source": [
    "k = int(input())\n",
    "m = int(input())\n",
    "if k == m:\n",
    "    print(\"entered values {} and {} are equal\".format(k,m))\n",
    "else:\n",
    "    print(\"entered value {} is not equal to {}\".format(k,m))"
   ]
  },
  {
   "cell_type": "markdown",
   "id": "ab167932",
   "metadata": {},
   "source": [
    "## Nested if [if with an if] -> one or more cases\n",
    "         ---\n",
    "             syntax:\n",
    "                      if(conditon-1):\n",
    "                          if(condition-2):\n",
    "                             //stmt-1\n",
    "                            \n",
    "                            \n",
    "                            if(condition-1):\n",
    "                                  if (conditon-2):\n",
    "                                  //stmt\n",
    "                                  else:\n",
    "                                  //stmt-2\n",
    "                                  else:\n",
    "                                  //stmt-3\n",
    "                            \n",
    "                             \n",
    "                             \n",
    "                             \n",
    "                    \n",
    "    "
   ]
  },
  {
   "cell_type": "code",
   "execution_count": 16,
   "id": "7285f742",
   "metadata": {},
   "outputs": [
    {
     "name": "stdout",
     "output_type": "stream",
     "text": [
      "100\n",
      "entered value 100 is equal to 100\n"
     ]
    }
   ],
   "source": [
    "n = int(input())\n",
    "if(n<=200):\n",
    "    if(n==100):\n",
    "            print(\"entered value {} is equal to 100\".format(n))\n",
    "    else:\n",
    "            print(\"entered value{} is not equal to 100 but it is lower than 200\".format(n))\n",
    "else:\n",
    "            print(\"entered value{} is greater than 200\".format(n))"
   ]
  },
  {
   "cell_type": "markdown",
   "id": "b83fddd5",
   "metadata": {},
   "source": [
    "## elif -> two orn more cases\n",
    "\n",
    "          syntax:\n",
    "             if(conditional-1):\n",
    "             //stmt-1\n",
    "             elif(conditional-2):\n",
    "             //stmt-2\n",
    "             elif(conditional-n):\n",
    "             //stmt-n\n",
    "             \\|||\n",
    "             else:\n",
    "             //stmt-(n+1)"
   ]
  },
  {
   "cell_type": "code",
   "execution_count": 23,
   "id": "285544dd",
   "metadata": {},
   "outputs": [
    {
     "name": "stdout",
     "output_type": "stream",
     "text": [
      "22115511\n",
      "entered value22115511 is not divisible by5 and 2\n"
     ]
    }
   ],
   "source": [
    "h = int(input())\n",
    "if h%5 == 0:\n",
    "    print(\":entered value {} is divisible by s\".format(h))\n",
    "elif h%2 == 0:\n",
    "    print(\"entered value {} is divisiible by 2\".format(h))\n",
    "else:\n",
    "    print(\"entered value{} is not divisible by5 and 2\".format(h))"
   ]
  },
  {
   "cell_type": "markdown",
   "id": "69b346d0",
   "metadata": {},
   "source": [
    "## control statemets,Iterations,loops,repition\n",
    "       - To control the flow of exceution\n",
    "       - for ,while"
   ]
  },
  {
   "cell_type": "markdown",
   "id": "6b7a7adb",
   "metadata": {},
   "source": [
    "## For -> for particular range=>[known range]\n",
    "            -syntax\n",
    "                     for iteration variable in iterator:\n",
    "                        //stmt\n",
    "                        \n",
    "                        or\n",
    "                        \n",
    "                    for iterations variables in range():\n",
    "                    //stmts"
   ]
  },
  {
   "cell_type": "markdown",
   "id": "6afe4e40",
   "metadata": {},
   "source": [
    "## Range:\n",
    "       range(n):\n",
    "             -> By default it starts from 0 to n-1\n",
    "             range(n,m):\n",
    "                 ->start range will starts from excatly at and stops at m-1\n",
    "                 ->range(4,8):45,6,7\n",
    "                 range(n,m,s):\n",
    "                 -> start range will starts from exactly at n and stops at m-1 and stepping in s\n",
    "                 range(4,10,2)-> 4,6,8\n",
    "                 \n",
    "               "
   ]
  },
  {
   "cell_type": "code",
   "execution_count": 26,
   "id": "563f5a25",
   "metadata": {},
   "outputs": [
    {
     "name": "stdout",
     "output_type": "stream",
     "text": [
      "2\n",
      "0 1 "
     ]
    }
   ],
   "source": [
    "n = int(input()) \n",
    "for b in range(n):\n",
    "    print(b,end=\" \")"
   ]
  },
  {
   "cell_type": "code",
   "execution_count": 32,
   "id": "05504ae8",
   "metadata": {},
   "outputs": [
    {
     "name": "stdout",
     "output_type": "stream",
     "text": [
      "enter a starting range value:2\n",
      "enter ending  range value:5\n",
      "2 3 4 "
     ]
    }
   ],
   "source": [
    "n = int(input(\"enter a starting range value:\"))\n",
    "m= int(input(\"enter ending  range value:\"))\n",
    "for b in range(n,m):\n",
    "    print(b,end=\" \")"
   ]
  },
  {
   "cell_type": "code",
   "execution_count": 33,
   "id": "96ba98eb",
   "metadata": {},
   "outputs": [
    {
     "name": "stdout",
     "output_type": "stream",
     "text": [
      "enter a starting range value:22\n",
      "enter ending  range value:101\n",
      "enter stepping range value:50\n",
      "22 72 "
     ]
    }
   ],
   "source": [
    "n = int(input(\"enter a starting range value:\"))\n",
    "m= int(input(\"enter ending  range value:\"))\n",
    "s= int(input(\"enter stepping range value:\"))\n",
    "for b in range(n,m,s):\n",
    "    print(b,end=\" \")"
   ]
  },
  {
   "cell_type": "code",
   "execution_count": 38,
   "id": "2e6dc8fa",
   "metadata": {},
   "outputs": [
    {
     "name": "stdout",
     "output_type": "stream",
     "text": [
      "enter a starting range value:5\n",
      "enter ending  range value:2\n",
      "2 3 4 "
     ]
    }
   ],
   "source": [
    "n = int(input(\"enter a starting range value:\"))\n",
    "m= int(input(\"enter ending  range value:\"))\n",
    "for b in range(m,n,+1):\n",
    "    print(b,end=\" \")"
   ]
  }
 ],
 "metadata": {
  "kernelspec": {
   "display_name": "Python 3",
   "language": "python",
   "name": "python3"
  },
  "language_info": {
   "codemirror_mode": {
    "name": "ipython",
    "version": 3
   },
   "file_extension": ".py",
   "mimetype": "text/x-python",
   "name": "python",
   "nbconvert_exporter": "python",
   "pygments_lexer": "ipython3",
   "version": "3.8.8"
  }
 },
 "nbformat": 4,
 "nbformat_minor": 5
}
