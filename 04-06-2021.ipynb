{
 "cells": [
  {
   "cell_type": "markdown",
   "id": "c1882ec1",
   "metadata": {},
   "source": [
    "# Functions:\n",
    "           -To perform a specific task\n",
    "           -reusebility of code\n",
    "           -number of lines can be dcreased \n",
    "           - predifined functions,user defined functions"
   ]
  },
  {
   "cell_type": "markdown",
   "id": "4737f6e1",
   "metadata": {},
   "source": [
    "## Predefined functions:\n",
    "         - Alresdy work has been allocated for it\n",
    "         -ex: print(),range(),str(),max() etc"
   ]
  },
  {
   "cell_type": "markdown",
   "id": "43ad38e9",
   "metadata": {},
   "source": [
    "## User defined functions:\n",
    "         -we need to allocate work for a function\n",
    "         - Syntax:\n",
    "                  def function_name(arguments):\n",
    "                         //stmts\n",
    "                         return return values"
   ]
  },
  {
   "cell_type": "markdown",
   "id": "82645f85",
   "metadata": {},
   "source": [
    "## Types of functions:\n",
    "     -with return type and with arguments\n",
    "     -with return type and without arguments\n",
    "     -without return types and with arguments\n",
    "     -without return type and with out arguments"
   ]
  },
  {
   "cell_type": "code",
   "execution_count": 8,
   "id": "e81660b4",
   "metadata": {},
   "outputs": [
    {
     "name": "stdout",
     "output_type": "stream",
     "text": [
      "20\n",
      "[1, 2, 3, 4, 5, 6, 7, 8, 9, 10, 11, 12, 13, 14, 15, 16, 17, 18, 19, 20]\n"
     ]
    }
   ],
   "source": [
    "# 1\n",
    "def printnumber(k):\n",
    "    j=[]\n",
    "    for b in range(1,k+1):\n",
    "        j.append(b)\n",
    "    return j\n",
    "n=int(input())\n",
    "print(printnumber(n))"
   ]
  },
  {
   "cell_type": "code",
   "execution_count": 14,
   "id": "2c4731af",
   "metadata": {
    "scrolled": true
   },
   "outputs": [
    {
     "name": "stdout",
     "output_type": "stream",
     "text": [
      "1\n",
      "1 "
     ]
    }
   ],
   "source": [
    "def printnumber(k):\n",
    "    j=[]\n",
    "    for b in range(1,k+1):\n",
    "        j.append(b)\n",
    "    return j\n",
    "n=int(input())\n",
    "for z in range(1,len(printnumber(n))+1):\n",
    "    print(z,end=\" \")"
   ]
  },
  {
   "cell_type": "code",
   "execution_count": 15,
   "id": "c5e39305",
   "metadata": {},
   "outputs": [
    {
     "name": "stdout",
     "output_type": "stream",
     "text": [
      "20\n",
      "14\n",
      "3 6 9 12 "
     ]
    }
   ],
   "source": [
    "def oddnumber():\n",
    "    k,c=int(input()),[]\n",
    "    for b in range(1,k+1):\n",
    "        if b%3==0:\n",
    "            c.append(b)\n",
    "    return c\n",
    "n=int(input())\n",
    "for z in oddnumber():\n",
    "    print(z,end=\" \")"
   ]
  },
  {
   "cell_type": "code",
   "execution_count": 21,
   "id": "b4f8809f",
   "metadata": {},
   "outputs": [
    {
     "name": "stdout",
     "output_type": "stream",
     "text": [
      "20\n"
     ]
    },
    {
     "ename": "NameError",
     "evalue": "name 'm' is not defined",
     "output_type": "error",
     "traceback": [
      "\u001b[1;31m---------------------------------------------------------------------------\u001b[0m",
      "\u001b[1;31mNameError\u001b[0m                                 Traceback (most recent call last)",
      "\u001b[1;32m<ipython-input-21-5c0b49c47d93>\u001b[0m in \u001b[0;36m<module>\u001b[1;34m\u001b[0m\n\u001b[0;32m      6\u001b[0m \u001b[1;33m\u001b[0m\u001b[0m\n\u001b[0;32m      7\u001b[0m \u001b[0mb\u001b[0m\u001b[1;33m=\u001b[0m\u001b[0mint\u001b[0m\u001b[1;33m(\u001b[0m\u001b[0minput\u001b[0m\u001b[1;33m(\u001b[0m\u001b[1;33m)\u001b[0m\u001b[1;33m)\u001b[0m\u001b[1;33m\u001b[0m\u001b[1;33m\u001b[0m\u001b[0m\n\u001b[1;32m----> 8\u001b[1;33m \u001b[0mevennumbers\u001b[0m\u001b[1;33m(\u001b[0m\u001b[0mm\u001b[0m\u001b[1;33m)\u001b[0m\u001b[1;33m\u001b[0m\u001b[1;33m\u001b[0m\u001b[0m\n\u001b[0m",
      "\u001b[1;31mNameError\u001b[0m: name 'm' is not defined"
     ]
    }
   ],
   "source": [
    "def evennumbers():\n",
    "    for i in range(1,m=1):\n",
    "        if i%2==0:\n",
    "            print(i,end=\" \")\n",
    "    return\n",
    "\n",
    "b=int(input())\n",
    "evennumbers()"
   ]
  },
  {
   "cell_type": "code",
   "execution_count": 22,
   "id": "d59238ce",
   "metadata": {},
   "outputs": [
    {
     "name": "stdout",
     "output_type": "stream",
     "text": [
      "20\n",
      "19\n",
      "25\n"
     ]
    }
   ],
   "source": [
    "def skippingvalue():\n",
    "    n=int(input())\n",
    "    m=int(input())\n",
    "    s=int(input())\n",
    "    for j in range(n,m,s):\n",
    "        print(j,end=\" \")\n",
    "    return\n",
    "\n",
    "skippingvalue()"
   ]
  },
  {
   "cell_type": "code",
   "execution_count": 28,
   "id": "2cbc2c15",
   "metadata": {},
   "outputs": [
    {
     "name": "stdout",
     "output_type": "stream",
     "text": [
      "45781258\n",
      "given number:  45781258\n",
      "even numbers are:  ['5', '7', '1', '5']\n",
      "odd numbers are:  ['4', '8', '2', '8']\n"
     ]
    }
   ],
   "source": [
    "def oe(n):\n",
    "    o=[]\n",
    "    e=[]\n",
    "    for i in n:\n",
    "        if int(i)%2==0:\n",
    "            o.append(i)\n",
    "        else:\n",
    "            e.append(i)\n",
    "    print(\"given number: \",n)\n",
    "    print(\"even numbers are: \",e)\n",
    "    print(\"odd numbers are: \",o)\n",
    "n=input()\n",
    "oe(n)\n"
   ]
  },
  {
   "cell_type": "markdown",
   "id": "dce31b6c",
   "metadata": {},
   "source": [
    "## Arguments types:\n",
    "         -required arguments (or) positional argments\n",
    "         -default arguments\n",
    "         -keyword arguments\n",
    "         -variable length arguments"
   ]
  },
  {
   "cell_type": "code",
   "execution_count": 30,
   "id": "01733eeb",
   "metadata": {},
   "outputs": [
    {
     "name": "stdout",
     "output_type": "stream",
     "text": [
      "enter a name:sai\n",
      "enter an age:14\n"
     ]
    },
    {
     "ename": "NameError",
     "evalue": "name 'a' is not defined",
     "output_type": "error",
     "traceback": [
      "\u001b[1;31m---------------------------------------------------------------------------\u001b[0m",
      "\u001b[1;31mNameError\u001b[0m                                 Traceback (most recent call last)",
      "\u001b[1;32m<ipython-input-30-567ec044a34e>\u001b[0m in \u001b[0;36m<module>\u001b[1;34m\u001b[0m\n\u001b[0;32m      4\u001b[0m \u001b[0mname\u001b[0m\u001b[1;33m=\u001b[0m\u001b[0minput\u001b[0m\u001b[1;33m(\u001b[0m\u001b[1;34m\"enter a name:\"\u001b[0m\u001b[1;33m)\u001b[0m\u001b[1;33m\u001b[0m\u001b[1;33m\u001b[0m\u001b[0m\n\u001b[0;32m      5\u001b[0m \u001b[0mage\u001b[0m\u001b[1;33m=\u001b[0m\u001b[0mint\u001b[0m\u001b[1;33m(\u001b[0m\u001b[0minput\u001b[0m\u001b[1;33m(\u001b[0m\u001b[1;34m\"enter an age:\"\u001b[0m\u001b[1;33m)\u001b[0m\u001b[1;33m)\u001b[0m\u001b[1;33m\u001b[0m\u001b[1;33m\u001b[0m\u001b[0m\n\u001b[1;32m----> 6\u001b[1;33m \u001b[0mstudent\u001b[0m\u001b[1;33m(\u001b[0m\u001b[0mname\u001b[0m\u001b[1;33m,\u001b[0m\u001b[0mage\u001b[0m\u001b[1;33m)\u001b[0m\u001b[1;33m\u001b[0m\u001b[1;33m\u001b[0m\u001b[0m\n\u001b[0m",
      "\u001b[1;32m<ipython-input-30-567ec044a34e>\u001b[0m in \u001b[0;36mstudent\u001b[1;34m(age, name)\u001b[0m\n\u001b[0;32m      1\u001b[0m \u001b[1;32mdef\u001b[0m \u001b[0mstudent\u001b[0m\u001b[1;33m(\u001b[0m\u001b[0mage\u001b[0m\u001b[1;33m,\u001b[0m\u001b[0mname\u001b[0m\u001b[1;33m)\u001b[0m\u001b[1;33m:\u001b[0m\u001b[1;33m\u001b[0m\u001b[1;33m\u001b[0m\u001b[0m\n\u001b[1;32m----> 2\u001b[1;33m     \u001b[0mprint\u001b[0m\u001b[1;33m(\u001b[0m\u001b[1;34m\"your name is: {}\\nyour age is: {}\"\u001b[0m\u001b[1;33m.\u001b[0m\u001b[0mformat\u001b[0m\u001b[1;33m(\u001b[0m\u001b[0mn\u001b[0m\u001b[1;33m,\u001b[0m\u001b[0ma\u001b[0m\u001b[1;33m)\u001b[0m\u001b[1;33m)\u001b[0m\u001b[1;33m\u001b[0m\u001b[1;33m\u001b[0m\u001b[0m\n\u001b[0m\u001b[0;32m      3\u001b[0m     \u001b[1;32mreturn\u001b[0m\u001b[1;33m\u001b[0m\u001b[1;33m\u001b[0m\u001b[0m\n\u001b[0;32m      4\u001b[0m \u001b[0mname\u001b[0m\u001b[1;33m=\u001b[0m\u001b[0minput\u001b[0m\u001b[1;33m(\u001b[0m\u001b[1;34m\"enter a name:\"\u001b[0m\u001b[1;33m)\u001b[0m\u001b[1;33m\u001b[0m\u001b[1;33m\u001b[0m\u001b[0m\n\u001b[0;32m      5\u001b[0m \u001b[0mage\u001b[0m\u001b[1;33m=\u001b[0m\u001b[0mint\u001b[0m\u001b[1;33m(\u001b[0m\u001b[0minput\u001b[0m\u001b[1;33m(\u001b[0m\u001b[1;34m\"enter an age:\"\u001b[0m\u001b[1;33m)\u001b[0m\u001b[1;33m)\u001b[0m\u001b[1;33m\u001b[0m\u001b[1;33m\u001b[0m\u001b[0m\n",
      "\u001b[1;31mNameError\u001b[0m: name 'a' is not defined"
     ]
    }
   ],
   "source": [
    "def student(age,name):\n",
    "    print(\"your name is: {}\\nyour age is: {}\".format(n,a))\n",
    "    return\n",
    "name=input(\"enter a name:\")\n",
    "age=int(input(\"enter an age:\"))\n",
    "student(name,age)"
   ]
  }
 ],
 "metadata": {
  "kernelspec": {
   "display_name": "Python 3",
   "language": "python",
   "name": "python3"
  },
  "language_info": {
   "codemirror_mode": {
    "name": "ipython",
    "version": 3
   },
   "file_extension": ".py",
   "mimetype": "text/x-python",
   "name": "python",
   "nbconvert_exporter": "python",
   "pygments_lexer": "ipython3",
   "version": "3.8.8"
  }
 },
 "nbformat": 4,
 "nbformat_minor": 5
}
